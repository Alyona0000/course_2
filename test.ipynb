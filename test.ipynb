{
 "cells": [
  {
   "cell_type": "code",
   "execution_count": null,
   "id": "80de71ed",
   "metadata": {},
   "outputs": [
    {
     "name": "stdout",
     "output_type": "stream",
     "text": [
      "[1 1 1 1 1]\n"
     ]
    }
   ],
   "source": [
    "import numpy as np\n",
    "\n",
    "aa = np.random.randint(1,2,5)\n",
    "print(aa)"
   ]
  },
  {
   "cell_type": "code",
   "execution_count": null,
   "id": "cc80741d",
   "metadata": {},
   "outputs": [
    {
     "name": "stdout",
     "output_type": "stream",
     "text": [
      "source_data [2 4 6 2 6 5 3 1 1 6 4 6 3 5 6 4 3 3 1 5]\n",
      "filtered_data [1 1 1]\n",
      "length 3\n"
     ]
    }
   ],
   "source": [
    "import numpy as np\n",
    "\n",
    "source_data = np.random.randint(1, 7, 20)\n",
    "print(\"source_data\", source_data)\n",
    "\n",
    "filtered_data = source_data[source_data < 3]\n",
    "print(\"filtered_data\", filtered_data)\n",
    "print(\"length\", len(filtered_data))\n"
   ]
  }
 ],
 "metadata": {
  "kernelspec": {
   "display_name": ".venv",
   "language": "python",
   "name": "python3"
  },
  "language_info": {
   "codemirror_mode": {
    "name": "ipython",
    "version": 3
   },
   "file_extension": ".py",
   "mimetype": "text/x-python",
   "name": "python",
   "nbconvert_exporter": "python",
   "pygments_lexer": "ipython3",
   "version": "3.12.4"
  }
 },
 "nbformat": 4,
 "nbformat_minor": 5
}
